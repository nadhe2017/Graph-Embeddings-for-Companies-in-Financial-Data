{
 "cells": [
  {
   "cell_type": "code",
   "execution_count": null,
   "metadata": {},
   "outputs": [],
   "source": [
    "from bs4 import BeautifulSoup\n",
    "import urllib2\n",
    "import codecs\n",
    "import re"
   ]
  },
  {
   "cell_type": "code",
   "execution_count": 5,
   "metadata": {
    "scrolled": false
   },
   "outputs": [],
   "source": [
    "def gettext(string):    \n",
    "    return re.sub('\\s+', ' ', string.strip())\n",
    "\n",
    "\n",
    "def fun(url):\n",
    "    flag = -1\n",
    "    content = urllib2.urlopen(url).read().replace('&nbsp;',' ').replace('&#160;',' ').encode('ascii','ignore')\n",
    "    soup = BeautifulSoup(content,\"lxml\")\n",
    "    alltags = soup.find_all()\n",
    "    final_str =\"\"\n",
    "    prev_text =\"\"\n",
    "    bold_tags = False\n",
    "    \n",
    "    \n",
    "    for tag in alltags:\n",
    "\n",
    "        try:\n",
    "            tag_text = gettext(tag.get_text())\n",
    "            if tag.name=='b' or tag.name =='strong' or 'bold' in tag['style']:\n",
    "\n",
    "                if '2.01' in tag_text :\n",
    "                    flag = 0\n",
    "\n",
    "                    if tag_text != prev_text:\n",
    "                        #print '0',tag.name,tag_text\n",
    "                        final_str += tag_text + '\\n'\n",
    "                        prev_text = tag_text\n",
    "                        \n",
    "\n",
    "                    #print '1'#,tag_text\n",
    "                    nexttags = tag.find_all_next()\n",
    "                    for x in nexttags:\n",
    "                        x_text = gettext(x.get_text())\n",
    "                        if 'item' in x_text.lower() :\n",
    "                            for x_child in x.descendants:\n",
    "                               # print x_child.name                            \n",
    "                                if x_child.name == 'b' or tag.name =='strong'or 'bold' in x['style']:\n",
    "                                    #print '3',x_child.get_text()                                    \n",
    "                                    return (final_str,flag)\n",
    "\n",
    "                        #print '2' #,x.name,x_text\n",
    "                        \n",
    "                        # if item 2.01 is the last item. Exiting when it sees 'signature'\n",
    "                        if 'signature' in x_text[:9].lower():\n",
    "                            print 'si------------------gnature found || bold',url\n",
    "                            return (final_str,flag)\n",
    "\n",
    "\n",
    "                        if x_text not in prev_text:                            \n",
    "                            final_str += x_text +'\\n'\n",
    "                        prev_text = x_text\n",
    "                    \n",
    "        except:\n",
    "            pass\n",
    "    \n",
    "    if len(final_str)>0:\n",
    "        return (final_str,flag)\n",
    "    else:   \n",
    "        final_str,flag = notbold(alltags)\n",
    "        return (final_str,flag)\n"
   ]
  },
  {
   "cell_type": "code",
   "execution_count": 6,
   "metadata": {},
   "outputs": [
    {
     "name": "stdout",
     "output_type": "stream",
     "text": [
      "attribute error\n",
      "Item 2.01 Completion of Acquisition or Disposition of Assets. First Trust High Income Long/Short Fund is filing herewith a press release issued today by First Trust Advisors L.P. (\"FTA\") announcing that the merger of First Trust Strategic High Income Fund II (NYSE: FHY), a closed-end fund managed by FTA, with and into First Trust High Income Long/Short Fund (NYSE: FSD), a closed-end fund managed by FTA, became effective immediately before the opening of the NYSE on June 25, 2018. Item 9.01 Financial Statements and Exhibits. (d) Exhibits Exhibit Number Description 99.1 Press release of First Trust Advisors L.P. dated June 25, 2018. SIGNATURES Pursuant to the requirements of the Securities Exchange Act of 1934, the registrant has duly caused this report to be signed on its behalf by the undersigned hereunto duly authorized. Dated: June 25, 2018 FIRST TRUST HIGH INCOME LONG/SHORT FUND By: /s/ W. Scott Jardine ---------------------------------- Name: W. Scott Jardine Title: Secretary EXHIBIT INDEX Exhibit Number Description 99.1 Press release of First Trust Advisors L.P. dated June 25, 2018.\n",
      "\n",
      "1\n"
     ]
    }
   ],
   "source": [
    "halcon,flag = fun('https://www.sec.gov/Archives/edgar/data/1494530/000144554618002940/fsd_8k.txt')\n",
    "print halcon\n",
    "print flag"
   ]
  },
  {
   "cell_type": "code",
   "execution_count": 488,
   "metadata": {},
   "outputs": [
    {
     "name": "stdout",
     "output_type": "stream",
     "text": [
      "0\n"
     ]
    }
   ],
   "source": [
    "k = re.compile('item 2.01[.]*[ ]*(completion)+|item 2.01[.]*[ ]*(disposition)+')\n",
    "m = k.search('Item 2.01 disposition adasd'.lower())\n",
    "print m.span()[0]"
   ]
  },
  {
   "cell_type": "code",
   "execution_count": 2,
   "metadata": {},
   "outputs": [],
   "source": [
    "def notbold(alltags):\n",
    "    flag = -1\n",
    "    final_str =\"\"\n",
    "    prev_text =\"\"\n",
    "    k = re.compile('item 2.01[.]*[ ]*(completion)+|item 2.01[.]*[ ]*(disposition)+')\n",
    "    for tag in alltags:\n",
    "        \n",
    "        tag_text = gettext(tag.get_text())\n",
    "        #if tag_text[:9] == 'item 2.01':\n",
    "        if k.match(tag_text.lower()):\n",
    "            flag = 1\n",
    "            if tag_text != prev_text:\n",
    "                #print '0',tag.name,tag_text\n",
    "                #print 'prev:',prev_text\n",
    "                #print 'new:',tag_text\n",
    "                final_str += tag_text + '\\n'\n",
    "                #print final_str+'\\n'+'--------------------'\n",
    "\n",
    "                prev_text = tag_text\n",
    "\n",
    "            #print '1'#,tag_text\n",
    "            try:\n",
    "                nexttags = tag.next_sibling.find_all_next()\n",
    "                for x in nexttags:\n",
    "                    x_text = gettext(x.get_text())\n",
    "                    #print '33'+'-------\\n'+x_text[:10]\n",
    "                    if 'item' in x_text[:5].lower() :\n",
    "\n",
    "                        return final_str,flag\n",
    "\n",
    "\n",
    "                    #print '2' #,x.name,x_text\n",
    "             # if item 2.01 is the last item. Exiting when it sees 'signature'\n",
    "                    if 'signature' in x_text[:9].lower():\n",
    "                        print 'si------------------gnature found || not bold',url\n",
    "                        return (final_str,flag)\n",
    "\n",
    "                    if x_text not in final_str:\n",
    "                        #print '5',x.name,x_text\n",
    "                        #print 'prev:',prev_text\n",
    "                        #print 'new:',tag_text                            \n",
    "                        final_str += x_text +'\\n'\n",
    "                        prev_text = x_text\n",
    "                        #print final_str+'\\n'+'--------------------'\n",
    "            except AttributeError:\n",
    "                print 'attribute error'\n",
    "\n",
    "                    \n",
    "                \n",
    "    if len(final_str)>0:\n",
    "        return (final_str,flag)\n",
    "    else:\n",
    "        return (None,flag)"
   ]
  },
  {
   "cell_type": "code",
   "execution_count": 18,
   "metadata": {},
   "outputs": [],
   "source": [
    "def getText(home_url):\n",
    "    global item_bold,item_nb,no_item\n",
    "    content = urllib2.urlopen(home_url).read()\n",
    "    soup = BeautifulSoup(content)\n",
    "    \n",
    "\n",
    "    for link in soup.find_all(id='viewFiling'):  \n",
    "        \n",
    "        if link.string[:3] == '8-K':            # Ensures that only 8-K filings, and no attachments are downloaded.\n",
    "            #print link.string\n",
    "            pos_arr = []                        # To find the position of the url and the company name\n",
    "            a = (link.get('href'))\n",
    "            for i in range(len(a)):\n",
    "                if a[i] == \"'\":\n",
    "                    pos_arr.append(i)\n",
    "            url = a[pos_arr[0]+1:pos_arr[1]]\n",
    "            company_name = a[pos_arr[2]+1:pos_arr[3]]\n",
    "            #print company_name,url\n",
    "            # Writing the text of the filing to a text file\n",
    "            ans,flag = fun(url)\n",
    "            #print 'flag = ',flag\n",
    "            #print 'length of filing is:' ,len(ans)\n",
    "            if ans:\n",
    "\n",
    "                \n",
    "                if (flag == 0):\n",
    "                    item_bold += 1\n",
    "                    #print company_name,url\n",
    "                    with codecs.open('Data\\\\Item 2.01 filings_2018_html\\\\Q1\\\\'+company_name+\"-item_2.01.txt\",\"w\",\"ascii\",\"ignore\") as f:\n",
    "                        f.write(ans)\n",
    "                if (flag == 1):\n",
    "                    item_nb += 1\n",
    "                    print '-------not bold',company_name,url\n",
    "                    with codecs.open('Data\\\\Item 2.01 filings_2018_html\\\\Q1\\\\'+company_name+\"-item_2.01.txt\",\"w\",\"ascii\",\"ignore\") as f:\n",
    "                        f.write(ans)\n",
    "                    \n",
    "                #print 'Yes! Item 2.01',company_name,url\n",
    "                \n",
    "            else:\n",
    "                no_item += 1\n",
    "                print 'No Item 2.01',company_name,url"
   ]
  },
  {
   "cell_type": "code",
   "execution_count": 19,
   "metadata": {
    "scrolled": false
   },
   "outputs": [
    {
     "name": "stdout",
     "output_type": "stream",
     "text": [
      "1\n",
      "No Item 2.01 POTLATCHDELTIC CORP http://www.sec.gov/Archives/edgar/data/1338749/000156459018007246/pch-8k_20180330.htm\n",
      "si------------------gnature found || bold http://www.sec.gov/Archives/edgar/data/1354591/000149315218004117/form8-k.htm\n",
      "101\n",
      "-------not bold CARLISLE COMPANIES INC http://www.sec.gov/Archives/edgar/data/790051/000079005118000099/cslform8-k03x20x18.htm\n",
      "201\n",
      "301\n",
      "si------------------gnature found || bold http://www.sec.gov/Archives/edgar/data/819926/000121390018002679/f8k_sharingeconomy.htm\n",
      "No Item 2.01 Amplify Energy Corp http://www.sec.gov/Archives/edgar/data/1521847/000119312518072782/d531735d8k.htm\n",
      "si------------------gnature found || bold http://www.sec.gov/Archives/edgar/data/1424549/000142454918000001/flapothecadeal3618.htm\n",
      "401\n",
      "-------not bold CLEAN HARBORS INC http://www.sec.gov/Archives/edgar/data/822818/000110465918013113/a18-7267_18k.htm\n",
      "No Item 2.01 General Moly Inc http://www.sec.gov/Archives/edgar/data/1275229/000110465918013549/a18-7324_18k.htm\n",
      "si------------------gnature found || bold http://www.sec.gov/Archives/edgar/data/1320854/000117184318001566/f8k_022818.htm\n",
      "-------not bold WD 40 CO http://www.sec.gov/Archives/edgar/data/105132/000010513218000012/wdfc-20180227x8k.htm\n",
      "No Item 2.01 DOMINION ENERGY INC VA http://www.sec.gov/Archives/edgar/data/715957/000119312518061175/d544502d8k.htm\n",
      "501\n",
      "No Item 2.01 WILLIAMS COMPANIES INC, WILLIAMS PARTNERS L P http://www.sec.gov/Archives/edgar/data/107263/000119312518057047/d542993d8k.htm\n",
      "-------not bold Alexander Baldwin Inc http://www.sec.gov/Archives/edgar/data/1545654/000154565418000008/a8-kxtrcacquisition.htm\n",
      "No Item 2.01 VIRCO MFG CORPORATION http://www.sec.gov/Archives/edgar/data/751365/000162828018002246/a8k_appointcappelloxdigreg.htm\n",
      "No Item 2.01 RE MAX Holdings Inc http://www.sec.gov/Archives/edgar/data/1581091/000110465918011423/a18-6713_18k.htm\n",
      "-------not bold MERIT MEDICAL SYSTEMS INC http://www.sec.gov/Archives/edgar/data/856982/000085698218000002/a02142018-8kacqusitionclos.htm\n",
      "601\n",
      "-------not bold DEXTERA SURGICAL INC http://www.sec.gov/Archives/edgar/data/1178104/000143774918002991/crdc20180221_8k.htm\n",
      "si------------------gnature found || bold http://www.sec.gov/Archives/edgar/data/802510/000147793218000976/enks_8k.htm\n",
      "No Item 2.01 TPG RE Finance Trust Inc http://www.sec.gov/Archives/edgar/data/1630472/000119312518050558/d544560d8k.htm\n",
      "si------------------gnature found || not bold http://www.sec.gov/Archives/edgar/data/845819/000101041218000051/f8-kcurrentreportlwbclean512.htm\n",
      "-------not bold SIGMA DESIGNS INC http://www.sec.gov/Archives/edgar/data/790715/000143774918002722/sigm20180215_8k.htm\n",
      "si------------------gnature found || bold http://www.sec.gov/Archives/edgar/data/1142790/000149315218002273/form8-k.htm\n",
      "No Item 2.01 DOMINION ENERGY INC VA http://www.sec.gov/Archives/edgar/data/715957/000119312518045855/d494582d8k.htm\n",
      "No Item 2.01 NCI BUILDING SYSTEMS INC http://www.sec.gov/Archives/edgar/data/883902/000114420418007449/tv485373_8k.htm\n",
      "701\n",
      "-------not bold BARNWELL INDUSTRIES INC http://www.sec.gov/Archives/edgar/data/10048/000089968118000024/p18-0017_8k.htm\n",
      "-------not bold APPLIED INDUSTRIAL TECHNOLOGIES INC http://www.sec.gov/Archives/edgar/data/109563/000010956318000052/a8k1312018fcx.htm\n",
      "801\n",
      "No Item 2.01 CITIBANK CREDIT CARD ISSUANCE TRUST, CITIBANK CREDIT CARD MASTER TRUST I, more... http://www.sec.gov/Archives/edgar/data/1108348/000119312518031889/d443466d8k.htm\n",
      "-------not bold Eagle Bancorp Montana Inc http://www.sec.gov/Archives/edgar/data/1478454/000143774918001680/ebmt20180130_8k.htm\n",
      "-------not bold Holly Brothers Pictures Inc http://www.sec.gov/Archives/edgar/data/1575659/000139390518000033/hlly_8k.htm\n",
      "901\n",
      "si------------------gnature found || bold http://www.sec.gov/Archives/edgar/data/819926/000121390018001000/f8k013018_sharingeconomy.htm\n",
      "si------------------gnature found || bold http://www.sec.gov/Archives/edgar/data/1477009/000139843218000014/a14107.htm\n",
      "1001\n",
      "1101\n",
      "si------------------gnature found || bold http://www.sec.gov/Archives/edgar/data/1102432/000147793218000423/vkin_8k.htm\n",
      "si------------------gnature found || bold http://www.sec.gov/Archives/edgar/data/819926/000121390018000736/f8k011918_sharingeconomy.htm\n",
      "1201\n",
      "No Item 2.01 LIGHTPATH TECHNOLOGIES INC http://www.sec.gov/Archives/edgar/data/889971/000138713118000157/lpth-8k_011618.htm\n",
      "-------not bold EVERSOURCE ENERGY, PUBLIC SERVICE CO OF NEW HAMPSHIRE http://www.sec.gov/Archives/edgar/data/72741/000007274118000013/psnhthermalform_8kedg.htm\n",
      "si------------------gnature found || bold http://www.sec.gov/Archives/edgar/data/1316517/000121390018000268/f8k010318_kanditechnologies.htm\n",
      "1301\n",
      "No Item 2.01 R1 RCM INC http://www.sec.gov/Archives/edgar/data/1472595/000147259518000004/a1-8x188xk.htm\n",
      "si------------------gnature found || bold http://www.sec.gov/Archives/edgar/data/1322505/000119312518002929/d506443d8k.htm\n",
      "si------------------gnature found || bold http://www.sec.gov/Archives/edgar/data/1624322/000143774918000068/bfbi20180102_8k.htm\n",
      "1401\n",
      "374 12 13\n"
     ]
    }
   ],
   "source": [
    "item_bold = 0\n",
    "item_nb = 0\n",
    "no_item = 0\n",
    "for i in range(1,1402,100):\n",
    "    if i == 1:\n",
    "        home_url = \"https://searchwww.sec.gov/EDGARFSClient/jsp/EDGAR_MainAccess.jsp?search_text=2.01&sort=Date&formType=Form8K&isAdv=true&stemming=false&numResults=100&fromDate=01/01/2018&toDate=03/31/2018&numResults=100\"\n",
    "        \n",
    "    else:\n",
    "        home_url = \"https://searchwww.sec.gov/EDGARFSClient/jsp/EDGAR_MainAccess.jsp?search_text=2.01&sort=Date&startDoc=\"+str(i)+\"&numResults=100&isAdv=true&formType=Form8K&fromDate=01/01/2018&toDate=03/31/2018&stemming=false\"\n",
    "\n",
    "    print i\n",
    "    getText(home_url)\n",
    "    \n",
    "    \n",
    "print item_bold,item_nb,no_item"
   ]
  },
  {
   "cell_type": "code",
   "execution_count": 156,
   "metadata": {},
   "outputs": [
    {
     "name": "stdout",
     "output_type": "stream",
     "text": [
      "365 31\n"
     ]
    }
   ],
   "source": [
    "print item,no_item"
   ]
  },
  {
   "cell_type": "code",
   "execution_count": 179,
   "metadata": {},
   "outputs": [
    {
     "name": "stdout",
     "output_type": "stream",
     "text": [
      "True\n"
     ]
    }
   ],
   "source": [
    "a = 'Item 2.01              Completion of Acquisition or Disposition of Assets.'\n",
    "a= re.sub('\\s+', ' ', a.lower().strip())\n",
    "print 'item 2.01 completion' in a"
   ]
  }
 ],
 "metadata": {
  "kernelspec": {
   "display_name": "Python 2",
   "language": "python",
   "name": "python2"
  },
  "language_info": {
   "codemirror_mode": {
    "name": "ipython",
    "version": 2
   },
   "file_extension": ".py",
   "mimetype": "text/x-python",
   "name": "python",
   "nbconvert_exporter": "python",
   "pygments_lexer": "ipython2",
   "version": "2.7.15"
  }
 },
 "nbformat": 4,
 "nbformat_minor": 2
}