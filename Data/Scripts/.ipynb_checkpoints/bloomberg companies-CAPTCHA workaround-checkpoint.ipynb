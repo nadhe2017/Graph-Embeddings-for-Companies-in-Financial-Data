{
 "cells": [
  {
   "cell_type": "code",
   "execution_count": null,
   "metadata": {},
   "outputs": [],
   "source": [
    "# Written in python2.\n",
    "# This script renders a webpage whenever a CAPTCHA challenge is encountered, which needs to be solved by the user.\n",
    "# url and filename need to be changed if looking for public companies.\n",
    "# Sleep delays should be adjusted as required.\n",
    "# Choose a small list of initials at a time."
   ]
  },
  {
   "cell_type": "code",
   "execution_count": 1,
   "metadata": {},
   "outputs": [],
   "source": [
    "from selenium import webdriver \n",
    "# import winsound\n",
    "import unidecode\n",
    "import time\n",
    "from HTMLParser import HTMLParser"
   ]
  },
  {
   "cell_type": "code",
   "execution_count": 3,
   "metadata": {},
   "outputs": [],
   "source": [
    "options = webdriver.ChromeOptions()\n",
    "options.binary_location = \"/Users/jiayi666/Applications/Google\\ Chrome.app/Contents/MacOS/Google\\ Chrome\"\n",
    "chrome_driver_path = \"/Users/jiayi666/Downloads/chromedriver\"\n",
    "# browser = webdriver.Chrome(chrome_driver_path, chrome_options=options)\n",
    "browser = webdriver.Chrome(chrome_driver_path)"
   ]
  },
  {
   "cell_type": "code",
   "execution_count": 4,
   "metadata": {},
   "outputs": [
    {
     "name": "stdout",
     "output_type": "stream",
     "text": [
      "['A', 'B', 'C', 'D', 'E', 'F', 'G', 'H', 'I', 'J', 'K', 'L', 'M', 'N', 'O', 'P', 'Q', 'R', 'S', 'T', 'U', 'V', 'W', 'X', 'Y', 'Z', '0', '1', '2', '3', '4', '5', '6', '7', '8', '9']\n"
     ]
    }
   ],
   "source": [
    "# initials = [chr(j) for j in range(65,91)]+[chr(i) for i in range(48,58)]\n",
    "initials = [\"A\"]\n",
    "print initials"
   ]
  },
  {
   "cell_type": "code",
   "execution_count": 5,
   "metadata": {},
   "outputs": [],
   "source": [
    "def all_companies_in_page(x):\n",
    "    page_list=[]\n",
    "    table = x.find('\"table\"')\n",
    "    start = x.find('<tbody>',table)\n",
    "    end = x.find('</tbody>',table)\n",
    "    flag = 1\n",
    "    k = start\n",
    "    while k<end and flag:\n",
    "        if x.find('\">',k,end):\n",
    "            k = x.find('\">',k)\n",
    "            try:\n",
    "                clast = x.index('</a>',k+2,end)                \n",
    "                company = x[k+2:clast]\n",
    "                k =clast\n",
    "                country_beg = x.index('<td>',clast)\n",
    "                country_end = x.index('</td>',country_beg)                \n",
    "                country = x[country_beg+4:country_end]\n",
    "                page_list+=[(company,country)]\n",
    "            except:\n",
    "                break\n",
    "        else:\n",
    "            k += 1\n",
    "    return page_list"
   ]
  },
  {
   "cell_type": "code",
   "execution_count": 6,
   "metadata": {},
   "outputs": [],
   "source": [
    "def check_iscaptcha(x):\n",
    "    if 'Are you a robot?' in x:\n",
    "        winsound.Beep(300, 2000)\n",
    "        while(1):\n",
    "            try:\n",
    "                input(\"Have you solved the captcha? Enter a number to proceed. \")\n",
    "                return True\n",
    "            except NameError:\n",
    "                print (\"Don't forget the quotes if entering a character!\")\n",
    "                pass\n",
    "    else:\n",
    "        return False"
   ]
  },
  {
   "cell_type": "code",
   "execution_count": 7,
   "metadata": {},
   "outputs": [],
   "source": [
    "def all_pages_in_initial(initial):\n",
    "    companies_in_initial = []   \n",
    "\n",
    "    url = 'https://www.bloomberg.com/research//common/symbollookup/symbollookup.asp?lookuptype=private&region=all&letterIn='+initial\n",
    "    print url   \n",
    "    \n",
    "    browser.get(url)\n",
    "    x = HTMLParser().unescape(unidecode.unidecode(unicode(browser.page_source)))\n",
    "    if check_iscaptcha(x):\n",
    "        browser.get(url)\n",
    "        x = HTMLParser().unescape(unidecode.unidecode(unicode(browser.page_source)))\n",
    "    \n",
    "    companies_in_initial+= all_companies_in_page(x)\n",
    "    f= x.index('returned')\n",
    "    j = f+1\n",
    "    num = ''\n",
    "    flag = 0\n",
    "    while j:\n",
    "        if x[j].isdigit():\n",
    "            num+=x[j]\n",
    "            flag = 1\n",
    "        if x[j]==' ' and flag == 1:\n",
    "            break                        \n",
    "        j += 1\n",
    "    num = int(num)\n",
    "    print 'No of search results in ',initial,' = ',num\n",
    "    for g in range(180,num,180):\n",
    "        \n",
    "        t = time.time()\n",
    "        url = 'www.bloomberg.com/research//common/symbollookup/symbollookup.asp?lookuptype=private&region=all&letterIn='+initial+'&firstrow='+str(g)\n",
    "       \n",
    "        print url\n",
    "        time.sleep(2)\n",
    "        \n",
    "        browser.get(url)\n",
    "        x = HTMLParser().unescape(unidecode.unidecode(unicode(browser.page_source)))\n",
    "        if check_iscaptcha(x):\n",
    "            browser.get(url)\n",
    "            x = HTMLParser().unescape(unidecode.unidecode(unicode(browser.page_source)))\n",
    "        \n",
    "        if time.time()-t >20:\n",
    "            winsound.Beep(1000,1000)\n",
    "            browser.get(url)\n",
    "            x = HTMLParser().unescape(unidecode.unidecode(unicode(browser.page_source)))\n",
    "            \n",
    "        \n",
    "        companies_in_initial+= all_companies_in_page(x)\n",
    "    \n",
    "    print 'No of companies in initial ',initial,'= ',len((companies_in_initial))\n",
    "\n",
    "    with open('Data/Company_lists/bloomberg_private.txt','a') as g:\n",
    "        for pair in companies_in_initial:\n",
    "            g.write(pair[0].encode('utf8')+','.encode('utf8')+pair[1].encode('utf8')+'\\n'.encode('utf-8'))\n",
    "            \n",
    "    time.sleep(2)\n",
    "    \n",
    "            "
   ]
  },
  {
   "cell_type": "code",
   "execution_count": null,
   "metadata": {},
   "outputs": [],
   "source": [
    "for initial in initials:\n",
    "    all_pages_in_initial(initial)"
   ]
  }
 ],
 "metadata": {
  "kernelspec": {
   "display_name": "Python 2",
   "language": "python",
   "name": "python2"
  },
  "language_info": {
   "codemirror_mode": {
    "name": "ipython",
    "version": 2
   },
   "file_extension": ".py",
   "mimetype": "text/x-python",
   "name": "python",
   "nbconvert_exporter": "python",
   "pygments_lexer": "ipython2",
   "version": "2.7.15"
  }
 },
 "nbformat": 4,
 "nbformat_minor": 2
}
