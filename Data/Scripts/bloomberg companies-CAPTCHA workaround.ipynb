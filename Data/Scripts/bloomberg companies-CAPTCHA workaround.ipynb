{
 "cells": [
  {
   "cell_type": "code",
   "execution_count": null,
   "metadata": {},
   "outputs": [],
   "source": [
    "# Written in python2.\n",
    "# This script renders a webpage whenever a CAPTCHA challenge is encountered, which needs to be solved by the user.\n",
    "# url and filename need to be changed if looking for public companies.\n",
    "# Sleep delays should be adjusted as required.\n",
    "# Choose a small list of initials at a time."
   ]
  },
  {
   "cell_type": "code",
   "execution_count": 1,
   "metadata": {},
   "outputs": [],
   "source": [
    "from selenium import webdriver \n",
    "# import winsound\n",
    "import unidecode\n",
    "import time\n",
    "from HTMLParser import HTMLParser"
   ]
  },
  {
   "cell_type": "code",
   "execution_count": 2,
   "metadata": {},
   "outputs": [],
   "source": [
    "options = webdriver.ChromeOptions()\n",
    "options.binary_location = \"/Users/jiayi666/Applications/Google\\ Chrome.app/Contents/MacOS/Google\\ Chrome\"\n",
    "chrome_driver_path = \"/Users/jiayi666/Downloads/chromedriver\"\n",
    "# browser = webdriver.Chrome(chrome_driver_path, chrome_options=options)\n",
    "browser = webdriver.Chrome(chrome_driver_path)"
   ]
  },
  {
   "cell_type": "code",
   "execution_count": 3,
   "metadata": {},
   "outputs": [
    {
     "name": "stdout",
     "output_type": "stream",
     "text": [
      "['A']\n"
     ]
    }
   ],
   "source": [
    "# initials = [chr(j) for j in range(65,91)]+[chr(i) for i in range(48,58)]\n",
    "initials = [\"A\"]\n",
    "print initials"
   ]
  },
  {
   "cell_type": "code",
   "execution_count": 4,
   "metadata": {},
   "outputs": [],
   "source": [
    "def all_companies_in_page(x):\n",
    "    page_list=[]\n",
    "    table = x.find('\"table\"')\n",
    "    start = x.find('<tbody>',table)\n",
    "    end = x.find('</tbody>',table)\n",
    "    flag = 1\n",
    "    k = start\n",
    "    while k<end and flag:\n",
    "        if x.find('\">',k,end):\n",
    "            k = x.find('\">',k)\n",
    "            try:\n",
    "                clast = x.index('</a>',k+2,end)                \n",
    "                company = x[k+2:clast]\n",
    "                k =clast\n",
    "                country_beg = x.index('<td>',clast)\n",
    "                country_end = x.index('</td>',country_beg)                \n",
    "                country = x[country_beg+4:country_end]\n",
    "                page_list+=[(company,country)]\n",
    "            except:\n",
    "                break\n",
    "        else:\n",
    "            k += 1\n",
    "    return page_list"
   ]
  },
  {
   "cell_type": "code",
   "execution_count": 5,
   "metadata": {},
   "outputs": [],
   "source": [
    "def check_iscaptcha(x):\n",
    "    if 'Are you a robot?' in x:\n",
    "        winsound.Beep(300, 2000)\n",
    "        while(1):\n",
    "            try:\n",
    "                input(\"Have you solved the captcha? Enter a number to proceed. \")\n",
    "                return True\n",
    "            except NameError:\n",
    "                print (\"Don't forget the quotes if entering a character!\")\n",
    "                pass\n",
    "    else:\n",
    "        return False"
   ]
  },
  {
   "cell_type": "code",
   "execution_count": 6,
   "metadata": {},
   "outputs": [],
   "source": [
    "def all_pages_in_initial(initial):\n",
    "    companies_in_initial = []   \n",
    "\n",
    "    url = 'https://www.bloomberg.com/research//common/symbollookup/symbollookup.asp?lookuptype=private&region=all&letterIn='+initial\n",
    "    print url   \n",
    "    \n",
    "    browser.get(url)\n",
    "    x = HTMLParser().unescape(unidecode.unidecode(unicode(browser.page_source)))\n",
    "    if check_iscaptcha(x):\n",
    "        browser.get(url)\n",
    "        x = HTMLParser().unescape(unidecode.unidecode(unicode(browser.page_source)))\n",
    "    \n",
    "    companies_in_initial+= all_companies_in_page(x)\n",
    "    f= x.index('returned')\n",
    "    j = f+1\n",
    "    num = ''\n",
    "    flag = 0\n",
    "    while j:\n",
    "        if x[j].isdigit():\n",
    "            num+=x[j]\n",
    "            flag = 1\n",
    "        if x[j]==' ' and flag == 1:\n",
    "            break                        \n",
    "        j += 1\n",
    "    num = int(num)\n",
    "    print 'No of search results in ',initial,' = ',num\n",
    "    for g in range(180,num,180):\n",
    "        \n",
    "        t = time.time()\n",
    "        url = 'www.bloomberg.com/research//common/symbollookup/symbollookup.asp?lookuptype=private&region=all&letterIn='+initial+'&firstrow='+str(g)\n",
    "       \n",
    "        print url\n",
    "        time.sleep(2)\n",
    "        \n",
    "        browser.get(url)\n",
    "        x = HTMLParser().unescape(unidecode.unidecode(unicode(browser.page_source)))\n",
    "        if check_iscaptcha(x):\n",
    "            browser.get(url)\n",
    "            x = HTMLParser().unescape(unidecode.unidecode(unicode(browser.page_source)))\n",
    "        \n",
    "        if time.time()-t >20:\n",
    "            winsound.Beep(1000,1000)\n",
    "            browser.get(url)\n",
    "            x = HTMLParser().unescape(unidecode.unidecode(unicode(browser.page_source)))\n",
    "            \n",
    "        \n",
    "        companies_in_initial+= all_companies_in_page(x)\n",
    "    \n",
    "    print 'No of companies in initial ',initial,'= ',len((companies_in_initial))\n",
    "\n",
    "    with open('Data/Company_lists/bloomberg_private.txt','a') as g:\n",
    "        for pair in companies_in_initial:\n",
    "            g.write(pair[0].encode('utf8')+','.encode('utf8')+pair[1].encode('utf8')+'\\n'.encode('utf-8'))\n",
    "            \n",
    "    time.sleep(2)\n",
    "    \n",
    "            "
   ]
  },
  {
   "cell_type": "code",
   "execution_count": 7,
   "metadata": {},
   "outputs": [
    {
     "name": "stdout",
     "output_type": "stream",
     "text": [
      "https://www.bloomberg.com/research//common/symbollookup/symbollookup.asp?lookuptype=private&region=all&letterIn=A\n",
      "No of search results in  A  =  95687\n",
      "www.bloomberg.com/research//common/symbollookup/symbollookup.asp?lookuptype=private&region=all&letterIn=A&firstrow=180\n"
     ]
    },
    {
     "ename": "WebDriverException",
     "evalue": "Message: unknown error: unhandled inspector error: {\"code\":-32000,\"message\":\"Cannot navigate to invalid URL\"}\n  (Session info: chrome=73.0.3683.86)\n  (Driver info: chromedriver=72.0.3626.69 (3c16f8a135abc0d4da2dff33804db79b849a7c38),platform=Mac OS X 10.12.6 x86_64)\n",
     "output_type": "error",
     "traceback": [
      "\u001b[0;31m---------------------------------------------------------------------------\u001b[0m",
      "\u001b[0;31mWebDriverException\u001b[0m                        Traceback (most recent call last)",
      "\u001b[0;32m<ipython-input-7-a0e9da4eb86d>\u001b[0m in \u001b[0;36m<module>\u001b[0;34m()\u001b[0m\n\u001b[1;32m      1\u001b[0m \u001b[0;32mfor\u001b[0m \u001b[0minitial\u001b[0m \u001b[0;32min\u001b[0m \u001b[0minitials\u001b[0m\u001b[0;34m:\u001b[0m\u001b[0;34m\u001b[0m\u001b[0m\n\u001b[0;32m----> 2\u001b[0;31m     \u001b[0mall_pages_in_initial\u001b[0m\u001b[0;34m(\u001b[0m\u001b[0minitial\u001b[0m\u001b[0;34m)\u001b[0m\u001b[0;34m\u001b[0m\u001b[0m\n\u001b[0m",
      "\u001b[0;32m<ipython-input-6-48e7d6dc5a3f>\u001b[0m in \u001b[0;36mall_pages_in_initial\u001b[0;34m(initial)\u001b[0m\n\u001b[1;32m     33\u001b[0m         \u001b[0mtime\u001b[0m\u001b[0;34m.\u001b[0m\u001b[0msleep\u001b[0m\u001b[0;34m(\u001b[0m\u001b[0;36m2\u001b[0m\u001b[0;34m)\u001b[0m\u001b[0;34m\u001b[0m\u001b[0m\n\u001b[1;32m     34\u001b[0m \u001b[0;34m\u001b[0m\u001b[0m\n\u001b[0;32m---> 35\u001b[0;31m         \u001b[0mbrowser\u001b[0m\u001b[0;34m.\u001b[0m\u001b[0mget\u001b[0m\u001b[0;34m(\u001b[0m\u001b[0murl\u001b[0m\u001b[0;34m)\u001b[0m\u001b[0;34m\u001b[0m\u001b[0m\n\u001b[0m\u001b[1;32m     36\u001b[0m         \u001b[0mx\u001b[0m \u001b[0;34m=\u001b[0m \u001b[0mHTMLParser\u001b[0m\u001b[0;34m(\u001b[0m\u001b[0;34m)\u001b[0m\u001b[0;34m.\u001b[0m\u001b[0munescape\u001b[0m\u001b[0;34m(\u001b[0m\u001b[0munidecode\u001b[0m\u001b[0;34m.\u001b[0m\u001b[0munidecode\u001b[0m\u001b[0;34m(\u001b[0m\u001b[0municode\u001b[0m\u001b[0;34m(\u001b[0m\u001b[0mbrowser\u001b[0m\u001b[0;34m.\u001b[0m\u001b[0mpage_source\u001b[0m\u001b[0;34m)\u001b[0m\u001b[0;34m)\u001b[0m\u001b[0;34m)\u001b[0m\u001b[0;34m\u001b[0m\u001b[0m\n\u001b[1;32m     37\u001b[0m         \u001b[0;32mif\u001b[0m \u001b[0mcheck_iscaptcha\u001b[0m\u001b[0;34m(\u001b[0m\u001b[0mx\u001b[0m\u001b[0;34m)\u001b[0m\u001b[0;34m:\u001b[0m\u001b[0;34m\u001b[0m\u001b[0m\n",
      "\u001b[0;32m/Users/jiayi666/anaconda/envs/py27/lib/python2.7/site-packages/selenium/webdriver/remote/webdriver.pyc\u001b[0m in \u001b[0;36mget\u001b[0;34m(self, url)\u001b[0m\n\u001b[1;32m    331\u001b[0m         \u001b[0mLoads\u001b[0m \u001b[0ma\u001b[0m \u001b[0mweb\u001b[0m \u001b[0mpage\u001b[0m \u001b[0;32min\u001b[0m \u001b[0mthe\u001b[0m \u001b[0mcurrent\u001b[0m \u001b[0mbrowser\u001b[0m \u001b[0msession\u001b[0m\u001b[0;34m.\u001b[0m\u001b[0;34m\u001b[0m\u001b[0m\n\u001b[1;32m    332\u001b[0m         \"\"\"\n\u001b[0;32m--> 333\u001b[0;31m         \u001b[0mself\u001b[0m\u001b[0;34m.\u001b[0m\u001b[0mexecute\u001b[0m\u001b[0;34m(\u001b[0m\u001b[0mCommand\u001b[0m\u001b[0;34m.\u001b[0m\u001b[0mGET\u001b[0m\u001b[0;34m,\u001b[0m \u001b[0;34m{\u001b[0m\u001b[0;34m'url'\u001b[0m\u001b[0;34m:\u001b[0m \u001b[0murl\u001b[0m\u001b[0;34m}\u001b[0m\u001b[0;34m)\u001b[0m\u001b[0;34m\u001b[0m\u001b[0m\n\u001b[0m\u001b[1;32m    334\u001b[0m \u001b[0;34m\u001b[0m\u001b[0m\n\u001b[1;32m    335\u001b[0m     \u001b[0;34m@\u001b[0m\u001b[0mproperty\u001b[0m\u001b[0;34m\u001b[0m\u001b[0m\n",
      "\u001b[0;32m/Users/jiayi666/anaconda/envs/py27/lib/python2.7/site-packages/selenium/webdriver/remote/webdriver.pyc\u001b[0m in \u001b[0;36mexecute\u001b[0;34m(self, driver_command, params)\u001b[0m\n\u001b[1;32m    319\u001b[0m         \u001b[0mresponse\u001b[0m \u001b[0;34m=\u001b[0m \u001b[0mself\u001b[0m\u001b[0;34m.\u001b[0m\u001b[0mcommand_executor\u001b[0m\u001b[0;34m.\u001b[0m\u001b[0mexecute\u001b[0m\u001b[0;34m(\u001b[0m\u001b[0mdriver_command\u001b[0m\u001b[0;34m,\u001b[0m \u001b[0mparams\u001b[0m\u001b[0;34m)\u001b[0m\u001b[0;34m\u001b[0m\u001b[0m\n\u001b[1;32m    320\u001b[0m         \u001b[0;32mif\u001b[0m \u001b[0mresponse\u001b[0m\u001b[0;34m:\u001b[0m\u001b[0;34m\u001b[0m\u001b[0m\n\u001b[0;32m--> 321\u001b[0;31m             \u001b[0mself\u001b[0m\u001b[0;34m.\u001b[0m\u001b[0merror_handler\u001b[0m\u001b[0;34m.\u001b[0m\u001b[0mcheck_response\u001b[0m\u001b[0;34m(\u001b[0m\u001b[0mresponse\u001b[0m\u001b[0;34m)\u001b[0m\u001b[0;34m\u001b[0m\u001b[0m\n\u001b[0m\u001b[1;32m    322\u001b[0m             response['value'] = self._unwrap_value(\n\u001b[1;32m    323\u001b[0m                 response.get('value', None))\n",
      "\u001b[0;32m/Users/jiayi666/anaconda/envs/py27/lib/python2.7/site-packages/selenium/webdriver/remote/errorhandler.pyc\u001b[0m in \u001b[0;36mcheck_response\u001b[0;34m(self, response)\u001b[0m\n\u001b[1;32m    240\u001b[0m                 \u001b[0malert_text\u001b[0m \u001b[0;34m=\u001b[0m \u001b[0mvalue\u001b[0m\u001b[0;34m[\u001b[0m\u001b[0;34m'alert'\u001b[0m\u001b[0;34m]\u001b[0m\u001b[0;34m.\u001b[0m\u001b[0mget\u001b[0m\u001b[0;34m(\u001b[0m\u001b[0;34m'text'\u001b[0m\u001b[0;34m)\u001b[0m\u001b[0;34m\u001b[0m\u001b[0m\n\u001b[1;32m    241\u001b[0m             \u001b[0;32mraise\u001b[0m \u001b[0mexception_class\u001b[0m\u001b[0;34m(\u001b[0m\u001b[0mmessage\u001b[0m\u001b[0;34m,\u001b[0m \u001b[0mscreen\u001b[0m\u001b[0;34m,\u001b[0m \u001b[0mstacktrace\u001b[0m\u001b[0;34m,\u001b[0m \u001b[0malert_text\u001b[0m\u001b[0;34m)\u001b[0m\u001b[0;34m\u001b[0m\u001b[0m\n\u001b[0;32m--> 242\u001b[0;31m         \u001b[0;32mraise\u001b[0m \u001b[0mexception_class\u001b[0m\u001b[0;34m(\u001b[0m\u001b[0mmessage\u001b[0m\u001b[0;34m,\u001b[0m \u001b[0mscreen\u001b[0m\u001b[0;34m,\u001b[0m \u001b[0mstacktrace\u001b[0m\u001b[0;34m)\u001b[0m\u001b[0;34m\u001b[0m\u001b[0m\n\u001b[0m\u001b[1;32m    243\u001b[0m \u001b[0;34m\u001b[0m\u001b[0m\n\u001b[1;32m    244\u001b[0m     \u001b[0;32mdef\u001b[0m \u001b[0m_value_or_default\u001b[0m\u001b[0;34m(\u001b[0m\u001b[0mself\u001b[0m\u001b[0;34m,\u001b[0m \u001b[0mobj\u001b[0m\u001b[0;34m,\u001b[0m \u001b[0mkey\u001b[0m\u001b[0;34m,\u001b[0m \u001b[0mdefault\u001b[0m\u001b[0;34m)\u001b[0m\u001b[0;34m:\u001b[0m\u001b[0;34m\u001b[0m\u001b[0m\n",
      "\u001b[0;31mWebDriverException\u001b[0m: Message: unknown error: unhandled inspector error: {\"code\":-32000,\"message\":\"Cannot navigate to invalid URL\"}\n  (Session info: chrome=73.0.3683.86)\n  (Driver info: chromedriver=72.0.3626.69 (3c16f8a135abc0d4da2dff33804db79b849a7c38),platform=Mac OS X 10.12.6 x86_64)\n"
     ]
    }
   ],
   "source": [
    "for initial in initials:\n",
    "    all_pages_in_initial(initial)"
   ]
  },
  {
   "cell_type": "code",
   "execution_count": null,
   "metadata": {},
   "outputs": [],
   "source": []
  }
 ],
 "metadata": {
  "kernelspec": {
   "display_name": "Python 3",
   "language": "python",
   "name": "python3"
  },
  "language_info": {
   "codemirror_mode": {
    "name": "ipython",
    "version": 3
   },
   "file_extension": ".py",
   "mimetype": "text/x-python",
   "name": "python",
   "nbconvert_exporter": "python",
   "pygments_lexer": "ipython3",
   "version": "3.5.5"
  }
 },
 "nbformat": 4,
 "nbformat_minor": 2
}
