{
 "cells": [
  {
   "cell_type": "code",
   "execution_count": 1,
   "metadata": {},
   "outputs": [],
   "source": [
    "from bs4 import BeautifulSoup\n",
    "# from urllib.request import urlopen\n",
    "from selenium import webdriver\n",
    "from html.parser import HTMLParser\n",
    "import unidecode\n",
    "import re\n",
    "import os\n",
    "import time\n",
    "import random"
   ]
  },
  {
   "cell_type": "code",
   "execution_count": 2,
   "metadata": {},
   "outputs": [],
   "source": [
    "# import winsound\n",
    "def got_CAPTCHA(soup):\n",
    "    if 'Are you a robot?' in soup.title.text:\n",
    "#         winsound.Beep(300, 2000)\n",
    "        while(1):\n",
    "            try:\n",
    "                input(\"Have you solved the captcha? Enter a number to proceed. \")\n",
    "                return True\n",
    "            except NameError:\n",
    "                print (\"Don't forget the quotes if entering a character!\")\n",
    "                pass\n",
    "    else:\n",
    "        return False   "
   ]
  },
  {
   "cell_type": "code",
   "execution_count": 3,
   "metadata": {},
   "outputs": [],
   "source": [
    "name_list = [\"Aedan Financial Corp\",\\\n",
    "             \"A Self-Administered Real Estate Investment Trust Inc.\"]\n",
    "search_url1 = \"https://www.bloomberg.com/research//common/symbollookup/symbollookup.asp?region=ALL&textIn=\"\n",
    "# first+second+third\n",
    "search_url2_private = \"&lookuptype=private\"\n",
    "search_url2_public = \"&lookuptype=public\"\n"
   ]
  },
  {
   "cell_type": "code",
   "execution_count": 4,
   "metadata": {},
   "outputs": [],
   "source": [
    "# launch selenium browser\n",
    "driver_path = \"/Users/jiayi666/Downloads/chromedriver\"\n",
    "browser = webdriver.Chrome(driver_path)\n",
    "random.seed(123)"
   ]
  },
  {
   "cell_type": "code",
   "execution_count": null,
   "metadata": {},
   "outputs": [],
   "source": [
    "def get_search_result(url):\n",
    "    wait = random.random()\n",
    "    time.sleep(wait)\n",
    "    browser.get(url)\n",
    "    soup = BeautifulSoup(browser.page_source)\n",
    "    while got_CAPTCHA(soup):\n",
    "        browser.get(url)\n",
    "        soup = BeautifulSoup(browser.page_source)\n",
    "    # find table\n",
    "    table = soup.find(\"table\",{\"class\":\"table\"})\n",
    "    return table"
   ]
  },
  {
   "cell_type": "code",
   "execution_count": null,
   "metadata": {},
   "outputs": [
    {
     "name": "stdout",
     "output_type": "stream",
     "text": [
      "Private Company:\n",
      "https://www.bloomberg.com/research/stocks/private/snapshot.asp?privcapId=529906283\n"
     ]
    }
   ],
   "source": [
    "# name = \"Aedan Financial Corp\"\n",
    "# name = \"Blue Buffalo\"\n",
    "for name in name_list:\n",
    "    url = search_url1 + \"+\".join(name.split()) + search_url2_private\n",
    "#     print(url)\n",
    "    # render page\n",
    "    table = get_search_result(url)\n",
    "    if not table.find(\"tbody\").find(\"td\",{\"class\":\"noData\"}): # found in private companies\n",
    "        print(\"Private Company:\")\n",
    "        link = table.find(\"tbody\").find(\"tr\").find(\"a\")[\"href\"]\n",
    "        pre_url = \"https://www.bloomberg.com/research/\"\n",
    "        comp_url = pre_url+link[6:]\n",
    "        print(comp_url)\n",
    "        # render new page and get bDesc\n",
    "        wait = random.random()\n",
    "        time.sleep(wait)\n",
    "        browser.get(comp_url)\n",
    "        soup = BeautifulSoup(browser.page_source)\n",
    "        while got_CAPTCHA(soup):\n",
    "            browser.get(comp_url)\n",
    "            soup = BeautifulSoup(browser.page_source)\n",
    "    #     print(soup.prettify)\n",
    "        desc = soup.find(\"p\",{\"id\":\"bDesc\"}).text\n",
    "        print(desc)\n",
    "    else:\n",
    "        url = search_url1 + \"+\".join(name.split()) + search_url2_public\n",
    "        table = get_search_result(url)\n",
    "        if not table.find(\"tbody\").find(\"td\",{\"class\":\"noData\"}): # found in public companies\n",
    "            print(\"Public Company:\")\n",
    "            link = table.find(\"tbody\").find(\"tr\").find(\"a\")[\"href\"]\n",
    "            pre_url = \"https://www.bloomberg.com/research/\"\n",
    "            comp_url = pre_url+link[6:]\n",
    "            print(comp_url)\n",
    "            wait = random.random()\n",
    "            time.sleep(wait)\n",
    "            browser.get(comp_url)\n",
    "            soup = BeautifulSoup(browser.page_source)\n",
    "            while got_CAPTCHA(soup):\n",
    "                browser.get(comp_url)\n",
    "                soup = BeautifulSoup(browser.page_source)\n",
    "        #     print(soup.prettify)\n",
    "#             desc = soup.find(\"section\",{\"class\":\"description\"}).find(\"p\").text\n",
    "            desc = soup.find(\"section\",{\"class\":re.compile(\"left__.{0,10} description__.{0,10}\")}).text\n",
    "            print(desc)\n",
    "        else:\n",
    "            print(\"This company wasn't found.\")\n",
    "            # deal with companies didn't find"
   ]
  },
  {
   "cell_type": "code",
   "execution_count": null,
   "metadata": {},
   "outputs": [],
   "source": [
    "print(soup.prettify)"
   ]
  },
  {
   "cell_type": "code",
   "execution_count": null,
   "metadata": {},
   "outputs": [],
   "source": [
    "print(soup.find(\"section\",{\"class\":re.compile(\"left__.{0,10} description__.{0,10}\")}).text)"
   ]
  },
  {
   "cell_type": "code",
   "execution_count": null,
   "metadata": {},
   "outputs": [],
   "source": []
  }
 ],
 "metadata": {
  "kernelspec": {
   "display_name": "Python 3",
   "language": "python",
   "name": "python3"
  },
  "language_info": {
   "codemirror_mode": {
    "name": "ipython",
    "version": 3
   },
   "file_extension": ".py",
   "mimetype": "text/x-python",
   "name": "python",
   "nbconvert_exporter": "python",
   "pygments_lexer": "ipython3",
   "version": "3.5.5"
  }
 },
 "nbformat": 4,
 "nbformat_minor": 2
}
