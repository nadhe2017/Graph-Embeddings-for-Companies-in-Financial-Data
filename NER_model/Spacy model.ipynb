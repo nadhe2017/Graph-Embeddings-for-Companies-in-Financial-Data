{
 "cells": [
  {
   "cell_type": "code",
   "execution_count": 162,
   "metadata": {},
   "outputs": [],
   "source": [
    "from __future__ import unicode_literals\n",
    "import spacy\n",
    "from spacy import displacy\n",
    "import pandas as pd\n",
    "import numpy as np\n",
    "import tensorflow as tf\n",
    "from sklearn.model_selection import train_test_split\n",
    "import tensorflow_hub as hub\n",
    "from keras import backend as K\n",
    "from keras.preprocessing.sequence import pad_sequences\n",
    "import copy\n",
    "import re"
   ]
  },
  {
   "cell_type": "code",
   "execution_count": 4,
   "metadata": {},
   "outputs": [],
   "source": [
    "data = pd.read_csv(\"NER_keras\\\\Named-Entity-Recognition_DeepLearning-keras-master\\\\ner_dataset.csv\", encoding=\"latin1\")\n",
    "data = data.drop(['POS'], axis =1)\n",
    "data = data.fillna(method=\"ffill\")"
   ]
  },
  {
   "cell_type": "code",
   "execution_count": 69,
   "metadata": {},
   "outputs": [],
   "source": [
    "words = set(list(data['Word'].values))\n",
    "words.add('PADword')\n",
    "n_words = len(words)\n",
    "tags = list(set(data[\"Tag\"].values))\n",
    "n_tags = len(tags)"
   ]
  },
  {
   "cell_type": "code",
   "execution_count": 73,
   "metadata": {},
   "outputs": [],
   "source": [
    "# Changing data format for consumption by spacy\n",
    "class SentenceGetter(object):\n",
    "    \n",
    "    def __init__(self, data):\n",
    "        self.n_sent = 1\n",
    "        self.data = data\n",
    "        self.empty = False\n",
    "        agg_func = lambda s: [(w, t) for w, t in zip(s[\"Word\"].values.tolist(),s[\"Tag\"].values.tolist())]\n",
    "        self.grouped = self.data.groupby(\"Sentence #\").apply(agg_func)\n",
    "        self.sentences = [s for s in self.grouped]\n",
    "    \n",
    "    def get_next(self):\n",
    "        try:\n",
    "            s = self.grouped[\"Sentence: {}\".format(self.n_sent)]\n",
    "            self.n_sent += 1\n",
    "            return s\n",
    "        except:\n",
    "            return None\n",
    "\n",
    "getter = SentenceGetter(data)\n",
    "sentences = getter.sentences"
   ]
  },
  {
   "cell_type": "code",
   "execution_count": 83,
   "metadata": {},
   "outputs": [
    {
     "data": {
      "text/plain": [
       "{'B-gpe': 0,\n",
       " 'I-geo': 1,\n",
       " 'B-eve': 2,\n",
       " 'B-per': 3,\n",
       " 'I-org': 4,\n",
       " 'B-tim': 5,\n",
       " 'I-eve': 6,\n",
       " 'B-nat': 7,\n",
       " 'I-tim': 8,\n",
       " 'I-nat': 9,\n",
       " 'I-gpe': 10,\n",
       " 'B-geo': 11,\n",
       " 'B-org': 12,\n",
       " 'B-art': 13,\n",
       " 'O': 14,\n",
       " 'I-art': 15,\n",
       " 'I-per': 16}"
      ]
     },
     "execution_count": 83,
     "metadata": {},
     "output_type": "execute_result"
    }
   ],
   "source": [
    "words2index = {w:i for i,w in enumerate(words)}\n",
    "tags2index = {t:i for i,t in enumerate(tags)}\n",
    "tags2index"
   ]
  },
  {
   "cell_type": "code",
   "execution_count": 75,
   "metadata": {},
   "outputs": [],
   "source": [
    "max_len = 50\n",
    "X = [[w[0]for w in s] for s in sentences]\n",
    "new_X = []\n",
    "for seq in X:\n",
    "    new_seq = []\n",
    "    for i in range(max_len):\n",
    "        try:\n",
    "            new_seq.append(seq[i])\n",
    "        except:v\n",
    "            new_seq.append(\"PADword\")\n",
    "    new_X.append(new_seq)"
   ]
  },
  {
   "cell_type": "code",
   "execution_count": 78,
   "metadata": {},
   "outputs": [],
   "source": [
    "y = [[tags2index[w[1]] for w in s] for s in sentences]\n",
    "y = pad_sequences(maxlen=max_len, sequences=y, padding=\"post\", value=tags2index[\"O\"])"
   ]
  },
  {
   "cell_type": "code",
   "execution_count": 79,
   "metadata": {},
   "outputs": [],
   "source": [
    "from sklearn.model_selection import train_test_split\n",
    "X_tr, X_te, y_tr, y_te = train_test_split(new_X, y, test_size=0.1, random_state=2018)\n",
    "batch_size = 32\n",
    "X_te = X_te[:149*batch_size]\n",
    "y_te = y_te[:149*batch_size]"
   ]
  },
  {
   "cell_type": "code",
   "execution_count": 107,
   "metadata": {},
   "outputs": [
    {
     "name": "stdout",
     "output_type": "stream",
     "text": [
      "{0: 'B-gpe', 1: 'I-geo', 2: 'B-eve', 3: 'B-per', 4: 'I-org', 5: 'B-tim', 6: 'I-eve', 7: 'B-nat', 8: 'I-tim', 9: 'I-nat', 10: 'I-gpe', 11: 'B-geo', 12: 'B-org', 13: 'B-art', 14: 'O', 15: 'I-art', 16: 'I-per'}\n"
     ]
    }
   ],
   "source": [
    "index2tags = {val:key for key,val in tags2index.items()}\n",
    "print (index2tags)\n",
    "with open('kaggle_test.txt','w',encoding='utf-8') as f:\n",
    "    with open('kaggle_test_truelabels.txt','w',encoding='utf-8') as g:\n",
    "        for i in range(len(X_te)):\n",
    "            for j in range(len(X_te[0])):\n",
    "                #print (X_te[i][j],y_te[i][j])\n",
    "                if X_te[i][j]!='PADword':\n",
    "                    f.write(X_te[i][j]+' ')\n",
    "                    g.write(index2tags[y_te[i][j]]+' ')\n",
    "            f.write('\\n')\n",
    "            g.write('\\n')\n",
    "            "
   ]
  },
  {
   "cell_type": "code",
   "execution_count": null,
   "metadata": {},
   "outputs": [],
   "source": [
    "model = 'en_core_web_lg'\n",
    "nlp = spacy.load('D:\\Softwares\\Anaconda2\\envs\\\\ner\\Lib\\site-packages\\\\'+model+'\\\\'+model+'-2.0.0')\n",
    "with open('kaggle_test_text.txt','r') as g:\n",
    "    lines = g.readlines()\n",
    "    \n",
    "with open('kaggle_test_truelabels.txt','r') as g:\n",
    "    true_labels = g.readlines()"
   ]
  },
  {
   "cell_type": "code",
   "execution_count": 202,
   "metadata": {},
   "outputs": [
    {
     "name": "stdout",
     "output_type": "stream",
     "text": [
      "Results for spacy model on the test set\n",
      "Precision =  0.686838124054463\n",
      "Recall =  0.5922254109052961\n",
      "F1 score = 0.636032502101429\n"
     ]
    }
   ],
   "source": [
    "# precision = detected positive and true/all predicted positives\n",
    "# recall = detected positive and true/all true positives\n",
    "error = 0\n",
    "pr_num,pr_den,re_num,re_den = 0.0,0.0,0.0,0.0 \n",
    "for i in range(len(lines)): \n",
    "    text = re.sub(' +,+',' ',lines[i]).strip('\\n').strip()\n",
    "    doc = nlp(text)    \n",
    "    #print text\n",
    "    dic = defaultdict(int)\n",
    "    \n",
    "    li_index = [0]\n",
    "    for k in range(len(text)):\n",
    "        if text[k]==' ':\n",
    "            li_index.append(k+1)\n",
    "    pred_labels = copy.copy(li_index)\n",
    "   \n",
    "    for ent in doc.ents:\n",
    "        #print(ent.text,ent.label_,ent.start_char,ent.end_char)\n",
    "        \n",
    "        if ent.label_=='ORG':\n",
    "            flag = 1\n",
    "            try:\n",
    "                j = li_index.index(ent.start_char)          \n",
    "                while j <len(li_index):\n",
    "                    if li_index[j]>=ent.end_char:\n",
    "                        break\n",
    "                    #print(type(li_index[j]))\n",
    "                    if flag == 1:\n",
    "                        pred_labels[j] = 'B-org'\n",
    "                        flag = 0\n",
    "                        j += 1\n",
    "                    #print (li_index[j],type(li_index[j]))\n",
    "                    else:\n",
    "                        pred_labels[j] = 'I-org'\n",
    "                        j += 1\n",
    "            except:\n",
    "                pass\n",
    "\n",
    "    for k in range(len(pred_labels)):\n",
    "        if str(pred_labels[k]).isdigit():\n",
    "            pred_labels[k] = 'O'\n",
    "\n",
    "    for m in range(len(pred_labels)):\n",
    "        if 'org' in true_labels[i].split()[m]:\n",
    "            re_den += 1\n",
    "        if 'org' in pred_labels[m]:\n",
    "            pr_den += 1\n",
    "            if 'org' in true_labels[i].split()[m]:\n",
    "                pr_num += 1\n",
    "                re_num += 1\n",
    "                \n",
    "print('Results for spacy model on the test set')\n",
    "print ('Precision = ',pr_num/pr_den)\n",
    "print ('Recall = ',re_num/re_den)\n",
    "print ('F1 score =', 2 * (pr_num/pr_den) * (re_num/re_den)/((pr_num/pr_den) + (re_num/re_den)))"
   ]
  }
 ],
 "metadata": {
  "kernelspec": {
   "display_name": "gpu",
   "language": "python",
   "name": "gpu"
  },
  "language_info": {
   "codemirror_mode": {
    "name": "ipython",
    "version": 3
   },
   "file_extension": ".py",
   "mimetype": "text/x-python",
   "name": "python",
   "nbconvert_exporter": "python",
   "pygments_lexer": "ipython3",
   "version": "3.6.7"
  }
 },
 "nbformat": 4,
 "nbformat_minor": 2
}
